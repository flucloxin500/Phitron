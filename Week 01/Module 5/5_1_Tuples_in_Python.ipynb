{
 "cells": [
  {
   "cell_type": "markdown",
   "id": "509a5699",
   "metadata": {},
   "source": [
    "### Tuples"
   ]
  },
  {
   "cell_type": "code",
   "execution_count": 3,
   "id": "5019ff82",
   "metadata": {},
   "outputs": [
    {
     "name": "stdout",
     "output_type": "stream",
     "text": [
      "(10, 20, 30, 40, 50)\n",
      "<class 'tuple'>\n",
      "(10.5, 20.5, 30.5)\n",
      "<class 'tuple'>\n",
      "(10, 20, 30, 40)\n",
      "<class 'tuple'>\n"
     ]
    }
   ],
   "source": [
    "#declare a tuple\n",
    "tup = (10,20,30,40,50)\n",
    "\n",
    "print(tup)\n",
    "print(type(tup))\n",
    "\n",
    "float_tup = (10.5,20.5,30.5)\n",
    "print(float_tup)\n",
    "print(type(float_tup))\n",
    "\n",
    "lst = [10,20,30,40]\n",
    "tup1 = tuple(lst)\n",
    "print(tup1)\n",
    "print(type(tup1))"
   ]
  },
  {
   "cell_type": "code",
   "execution_count": 5,
   "id": "34fc10c0",
   "metadata": {},
   "outputs": [
    {
     "name": "stdout",
     "output_type": "stream",
     "text": [
      "False\n"
     ]
    }
   ],
   "source": [
    "#Accessing tuple elements\n",
    "tup2 = (10,20,30,10.2, False,\"Hello\")\n",
    "print(tup2[4])\n"
   ]
  },
  {
   "cell_type": "code",
   "execution_count": 8,
   "id": "51b6e773",
   "metadata": {},
   "outputs": [
    {
     "name": "stdout",
     "output_type": "stream",
     "text": [
      "[10, 20, 30, 40, 50]\n",
      "(10, 20, 30, 40)\n"
     ]
    }
   ],
   "source": [
    "#Immutability\n",
    "lst = [10,20,30,40]\n",
    "lst.append(50)\n",
    "print(lst)\n",
    "\n",
    "tupl = (10,20,30,40)\n",
    "#tupl.append(50) #AttributeError: 'tuple' object has no attribute 'append'   \n",
    "print(tupl)"
   ]
  },
  {
   "cell_type": "code",
   "execution_count": 11,
   "id": "bf563d2b",
   "metadata": {},
   "outputs": [
    {
     "name": "stdout",
     "output_type": "stream",
     "text": [
      "4\n",
      "2\n"
     ]
    }
   ],
   "source": [
    "#tuple methods\n",
    "tup3 = (10,20,30,10,20,10,10)\n",
    "print(tup3.count(10))\n",
    "\n",
    "print(tup3.index(30)) #count method"
   ]
  }
 ],
 "metadata": {
  "kernelspec": {
   "display_name": "base",
   "language": "python",
   "name": "python3"
  },
  "language_info": {
   "codemirror_mode": {
    "name": "ipython",
    "version": 3
   },
   "file_extension": ".py",
   "mimetype": "text/x-python",
   "name": "python",
   "nbconvert_exporter": "python",
   "pygments_lexer": "ipython3",
   "version": "3.13.5"
  }
 },
 "nbformat": 4,
 "nbformat_minor": 5
}
