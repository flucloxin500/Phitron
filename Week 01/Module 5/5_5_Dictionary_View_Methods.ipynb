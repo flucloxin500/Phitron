{
 "cells": [
  {
   "cell_type": "code",
   "execution_count": 5,
   "id": "74da9774",
   "metadata": {},
   "outputs": [
    {
     "name": "stdout",
     "output_type": "stream",
     "text": [
      "dict_keys(['Name', 'Age', 'City', 'numbers'])\n",
      "dict_keys(['Name', 'Age', 'City', 'numbers', 'math_marks'])\n",
      "dict_values(['John', 30, 'New York', [1, 2, 3, 4, 5], 90])\n",
      "dict_items([('Name', 'John'), ('Age', 30), ('City', 'New York'), ('numbers', [1, 2, 3, 4, 5]), ('math_marks', 90)])\n",
      "<class 'dict_items'>\n"
     ]
    }
   ],
   "source": [
    "dic = {\"Name\" : \"John\", \"Age\": 25, \"City\": \"New York\" , \"numbers\" : [1,2,3,4,5], \"Age\": 30}\n",
    "\n",
    "keys = dic.keys()\n",
    "print(keys)\n",
    "\n",
    "dic [\"math_marks\"] = 90\n",
    "print(keys)\n",
    "\n",
    "values = dic.values()\n",
    "print(values)\n",
    "\n",
    "\n",
    "items = dic.items()\n",
    "print(items)\n",
    "print(type(items))"
   ]
  },
  {
   "cell_type": "code",
   "execution_count": 6,
   "id": "9ca37746",
   "metadata": {},
   "outputs": [
    {
     "name": "stdout",
     "output_type": "stream",
     "text": [
      "Name : John\n",
      "Age : 30\n",
      "City : New York\n",
      "numbers : [1, 2, 3, 4, 5]\n",
      "math_marks : 90\n"
     ]
    }
   ],
   "source": [
    "#Iteration\n",
    "for key, value in dic.items():\n",
    "    print(f\"{key} : {value}\")\n",
    "    "
   ]
  }
 ],
 "metadata": {
  "kernelspec": {
   "display_name": "base",
   "language": "python",
   "name": "python3"
  },
  "language_info": {
   "codemirror_mode": {
    "name": "ipython",
    "version": 3
   },
   "file_extension": ".py",
   "mimetype": "text/x-python",
   "name": "python",
   "nbconvert_exporter": "python",
   "pygments_lexer": "ipython3",
   "version": "3.13.5"
  }
 },
 "nbformat": 4,
 "nbformat_minor": 5
}
