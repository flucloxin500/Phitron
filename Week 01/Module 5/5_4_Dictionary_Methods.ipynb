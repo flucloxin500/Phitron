{
 "cells": [
  {
   "cell_type": "code",
   "execution_count": null,
   "id": "c9edc7e2",
   "metadata": {},
   "outputs": [
    {
     "name": "stdout",
     "output_type": "stream",
     "text": [
      "{'Name': 'John', 'Age': 30, 'City': 'New York', 'numbers': [1, 2, 3, 4, 5]}\n",
      "{'Name': 'John', 'Age': 30, 'City': 'New York', 'numbers': [1, 2, 3, 4, 5]}\n",
      "{'Name': 'John', 'Age': 30, 'City': 'New York', 'numbers': [1, 2, 3, 4, 5], 'Math_Marks': 95}\n",
      "{'Name': 'John', 'Age': 30, 'City': 'New York', 'numbers': [1, 2, 3, 4, 5], 'Math_Marks': 95, 'English_Marks': 28}\n",
      "{'Name': 'John', 'Age': 30, 'numbers': [1, 2, 3, 4, 5], 'Math_Marks': 95, 'English_Marks': 28}\n",
      "{'Name': 'John', 'Age': 30, 'numbers': [1, 2, 3, 4, 5], 'Math_Marks': 95, 'English_Marks': 28}\n"
     ]
    }
   ],
   "source": [
    "dic = {\"Name\" : \"John\", \"Age\": 25, \"City\": \"New York\" , \"numbers\" : [1,2,3,4,5], \"Age\": 30}\n",
    "print(dic)\n",
    "\n",
    "print(dic)\n",
    "\n",
    "dic[\"Math_Marks\"] = 95\n",
    "print(dic)\n",
    "\n",
    "dic.update({\"English_Marks\": 28})\n",
    "print(dic)\n",
    "\n",
    "del dic[\"City\"]\n",
    "print(dic)\n",
    "\n",
    "dic_2 = dic.copy()\n",
    "print(dic_2)\n"
   ]
  },
  {
   "cell_type": "code",
   "execution_count": 9,
   "id": "798802a0",
   "metadata": {},
   "outputs": [
    {
     "name": "stdout",
     "output_type": "stream",
     "text": [
      "{'a': {'name': 'Walid', 'Age': 25}}\n"
     ]
    }
   ],
   "source": [
    "#testing\n",
    "\n",
    "dic_3 = {\"a\": {\"name\" : \"Walid\", \"Age\" : 25}}\n",
    "print(dic_3)"
   ]
  }
 ],
 "metadata": {
  "kernelspec": {
   "display_name": "base",
   "language": "python",
   "name": "python3"
  },
  "language_info": {
   "codemirror_mode": {
    "name": "ipython",
    "version": 3
   },
   "file_extension": ".py",
   "mimetype": "text/x-python",
   "name": "python",
   "nbconvert_exporter": "python",
   "pygments_lexer": "ipython3",
   "version": "3.13.5"
  }
 },
 "nbformat": 4,
 "nbformat_minor": 5
}
