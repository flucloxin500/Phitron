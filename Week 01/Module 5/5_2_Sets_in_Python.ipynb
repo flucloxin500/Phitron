{
 "cells": [
  {
   "cell_type": "markdown",
   "id": "da4412d9",
   "metadata": {},
   "source": [
    "Set"
   ]
  },
  {
   "cell_type": "code",
   "execution_count": 1,
   "id": "4735f28d",
   "metadata": {},
   "outputs": [
    {
     "name": "stdout",
     "output_type": "stream",
     "text": [
      "<class 'set'> {1, 2, 3}\n"
     ]
    }
   ],
   "source": [
    "A = {1,2,3}\n",
    "print(type(A),A)"
   ]
  },
  {
   "cell_type": "code",
   "execution_count": 4,
   "id": "14607414",
   "metadata": {},
   "outputs": [
    {
     "name": "stdout",
     "output_type": "stream",
     "text": [
      "<class 'list'> []\n",
      "<class 'set'> set()\n"
     ]
    }
   ],
   "source": [
    "#Empty list\n",
    "B = []\n",
    "print(type(B),B)\n",
    "\n",
    "#Empty Set\n",
    "S = set()\n",
    "print(type(S),S)"
   ]
  },
  {
   "cell_type": "code",
   "execution_count": null,
   "id": "4a2299eb",
   "metadata": {},
   "outputs": [
    {
     "name": "stdout",
     "output_type": "stream",
     "text": [
      "5 is present\n",
      "{1, 2, 3, 4, 5}\n",
      "Sum = 15\n"
     ]
    }
   ],
   "source": [
    "#Accessing Set\n",
    "\n",
    "S = {1,2,3,4,5,5,5,5}\n",
    "if 5 in S:\n",
    "    print(\"5 is present\") \n",
    "else:\n",
    "    print(\"5 is not present\")\n",
    "print(S)  # {1,2,3,4,5}  #Set er moddhe duplicate value thake na\n",
    "\n",
    "sum = 0\n",
    "for element in S:\n",
    "    sum += element\n",
    "print(\"Sum =\",sum)"
   ]
  },
  {
   "cell_type": "code",
   "execution_count": null,
   "id": "8b5d27d7",
   "metadata": {},
   "outputs": [
    {
     "name": "stdout",
     "output_type": "stream",
     "text": [
      "{1, 2, 3, 4, 5}\n",
      "{1, 2, 3, 4, 5, 6, 7}\n",
      "{2, 3, 4, 5, 6, 7}\n",
      "{2, 4, 5, 6, 7}\n"
     ]
    }
   ],
   "source": [
    "S = {1,2,3,5,5,5,5,4}\n",
    "print(S)\n",
    "\n",
    "S.add(6)\n",
    "S.add(7)\n",
    "print(S)\n",
    "\n",
    "S.pop()  #Randomly removes an element\n",
    "print(S)\n",
    "\n",
    "S.remove(3)  #Removes specific element\n",
    "print(S)"
   ]
  },
  {
   "cell_type": "markdown",
   "id": "db879543",
   "metadata": {},
   "source": [
    "### Set Mathematical Methods"
   ]
  },
  {
   "cell_type": "code",
   "execution_count": null,
   "id": "59fa4fa2",
   "metadata": {},
   "outputs": [
    {
     "name": "stdout",
     "output_type": "stream",
     "text": [
      "{1, 2, 3, 4, 5}\n",
      "{3}\n",
      "{1, 2}\n",
      "False\n",
      "False\n"
     ]
    }
   ],
   "source": [
    "a = {1,2,3}\n",
    "b = {3,4,5}\n",
    "\n",
    "print(a.union(b))  # {1,2,3,4,5}\n",
    "print(a.intersection(b))  # {3}\n",
    "print(a.difference(b))  # {1,2}0\n",
    "print(a.isdisjoint(b))  # False\n",
    "print(a.issubset(b))  # False"
   ]
  },
  {
   "cell_type": "code",
   "execution_count": 25,
   "id": "7fa69e8e",
   "metadata": {},
   "outputs": [],
   "source": [
    "### Methods of Set"
   ]
  }
 ],
 "metadata": {
  "kernelspec": {
   "display_name": "base",
   "language": "python",
   "name": "python3"
  },
  "language_info": {
   "codemirror_mode": {
    "name": "ipython",
    "version": 3
   },
   "file_extension": ".py",
   "mimetype": "text/x-python",
   "name": "python",
   "nbconvert_exporter": "python",
   "pygments_lexer": "ipython3",
   "version": "3.13.5"
  }
 },
 "nbformat": 4,
 "nbformat_minor": 5
}
