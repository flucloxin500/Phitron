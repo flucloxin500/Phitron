{
 "cells": [
  {
   "cell_type": "markdown",
   "id": "3de91164",
   "metadata": {},
   "source": [
    "### Dictionaries in Python"
   ]
  },
  {
   "cell_type": "code",
   "execution_count": 6,
   "id": "2f587c9e",
   "metadata": {},
   "outputs": [
    {
     "name": "stdout",
     "output_type": "stream",
     "text": [
      "<class 'dict'>\n",
      "<class 'dict'> {'Name': 'John', 'Age': 25, 'City': 'New York', 'numbers': [1, 2, 3, 4, 5]}\n",
      "John\n",
      "25\n",
      "{'Name': 'John', 'Age': 26, 'City': 'New York', 'numbers': [1, 2, 3, 4, 5]}\n",
      "{'Name': 'John', 'Age': 30, 'City': 'New York', 'numbers': [1, 2, 3, 4, 5]}\n"
     ]
    }
   ],
   "source": [
    "dic = {}\n",
    "print(type(dic))\n",
    "\n",
    "dic = {\"Name\" : \"John\", \"Age\": 25, \"City\": \"New York\" , \"numbers\" : [1,2,3,4,5]}\n",
    "print(type(dic),dic)\n",
    "\n",
    "#Accessing elements\n",
    "print(dic[\"Name\"])\n",
    "print(dic.get(\"Age\"))\n",
    "\n",
    "dic[\"Age\"] = 26\n",
    "print(dic)\n",
    "\n",
    "dic = {\"Name\" : \"John\", \"Age\": 25, \"City\": \"New York\" , \"numbers\" : [1,2,3,4,5], \"Age\": 30}\n",
    "print(dic)\n"
   ]
  }
 ],
 "metadata": {
  "kernelspec": {
   "display_name": "base",
   "language": "python",
   "name": "python3"
  },
  "language_info": {
   "codemirror_mode": {
    "name": "ipython",
    "version": 3
   },
   "file_extension": ".py",
   "mimetype": "text/x-python",
   "name": "python",
   "nbconvert_exporter": "python",
   "pygments_lexer": "ipython3",
   "version": "3.13.5"
  }
 },
 "nbformat": 4,
 "nbformat_minor": 5
}
