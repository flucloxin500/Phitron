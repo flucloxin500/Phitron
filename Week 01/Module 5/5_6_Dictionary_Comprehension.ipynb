{
 "cells": [
  {
   "cell_type": "markdown",
   "id": "ce2cba35",
   "metadata": {},
   "source": [
    "### Dictionary Comprehension"
   ]
  },
  {
   "cell_type": "code",
   "execution_count": 5,
   "id": "9fb5e575",
   "metadata": {},
   "outputs": [
    {
     "name": "stdout",
     "output_type": "stream",
     "text": [
      "{2: 4, 4: 16, 6: 36, 8: 64, 10: 100}\n"
     ]
    }
   ],
   "source": [
    "square = {x : x**2 for x in range(1,11) if x % 2 == 0}\n",
    "print(square)"
   ]
  },
  {
   "cell_type": "code",
   "execution_count": 6,
   "id": "d1fc21eb",
   "metadata": {},
   "outputs": [
    {
     "name": "stdout",
     "output_type": "stream",
     "text": [
      "{(10, 10.5): 'Dhaka', (20.5, 192): 'Chittagong', (101, 102): 'Khulna'}\n"
     ]
    }
   ],
   "source": [
    "Co_Ordinates =[(10,10.5),(20.5,192),(101,102)]\n",
    "Locations = [\"Dhaka\",\"Chittagong\",\"Khulna\"]\n",
    "exact_location ={co_or : loc for co_or,loc in zip(Co_Ordinates,Locations)  }\n",
    "\n",
    "print(exact_location)"
   ]
  }
 ],
 "metadata": {
  "kernelspec": {
   "display_name": "base",
   "language": "python",
   "name": "python3"
  },
  "language_info": {
   "codemirror_mode": {
    "name": "ipython",
    "version": 3
   },
   "file_extension": ".py",
   "mimetype": "text/x-python",
   "name": "python",
   "nbconvert_exporter": "python",
   "pygments_lexer": "ipython3",
   "version": "3.13.5"
  }
 },
 "nbformat": 4,
 "nbformat_minor": 5
}
