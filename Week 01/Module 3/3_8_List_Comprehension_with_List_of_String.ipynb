{
 "cells": [
  {
   "cell_type": "code",
   "execution_count": 4,
   "id": "20b97133",
   "metadata": {},
   "outputs": [
    {
     "name": "stdout",
     "output_type": "stream",
     "text": [
      "[]\n",
      "['mango', 'banana', 'orange', 'grape']\n"
     ]
    }
   ],
   "source": [
    "fruits = [\"mANGO\", \"BANANA\", \"ORANGE\", \"GRAPE\"]\n",
    "\n",
    "capitalized_fruits = []\n",
    "#uppercase_fruits = []\n",
    "#for fruit in fruits:\n",
    "#    capitalized_fruits.append(fruit.capitalize())\n",
    "#    uppercase_fruits.append(fruit.upper())\n",
    "    \n",
    "print(capitalized_fruits)\n",
    "#print(uppercase_fruits)\n",
    "\n",
    "uppercase_fruits = [fruit.lower() for fruit in fruits]\n",
    "print(uppercase_fruits)"
   ]
  }
 ],
 "metadata": {
  "kernelspec": {
   "display_name": "base",
   "language": "python",
   "name": "python3"
  },
  "language_info": {
   "codemirror_mode": {
    "name": "ipython",
    "version": 3
   },
   "file_extension": ".py",
   "mimetype": "text/x-python",
   "name": "python",
   "nbconvert_exporter": "python",
   "pygments_lexer": "ipython3",
   "version": "3.13.5"
  }
 },
 "nbformat": 4,
 "nbformat_minor": 5
}
