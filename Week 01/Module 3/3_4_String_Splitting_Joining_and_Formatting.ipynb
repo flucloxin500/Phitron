{
 "cells": [
  {
   "cell_type": "markdown",
   "id": "ce6ed79c",
   "metadata": {},
   "source": [
    "### Splitting , Joining and Formatted String"
   ]
  },
  {
   "cell_type": "code",
   "execution_count": 10,
   "id": "f0264922",
   "metadata": {},
   "outputs": [
    {
     "name": "stdout",
     "output_type": "stream",
     "text": [
      "['What', 'is', 'Phitron', '?']\n",
      "<class 'list'>\n",
      "What-is-Phitron-?\n",
      "<class 'str'>\n"
     ]
    }
   ],
   "source": [
    "prompt = \"What is Phitron ?\"\n",
    "\n",
    "#Split gula space er maddhome vag kore list hishebe back dibe\n",
    "token = prompt.split()\n",
    "\n",
    "print(token)\n",
    "print(type(token))\n",
    "\n",
    "senctence = \"-\".join(token)\n",
    "print(senctence)\n",
    "print(type(senctence))"
   ]
  },
  {
   "cell_type": "markdown",
   "id": "973bcd2e",
   "metadata": {},
   "source": [
    "### Formatted String"
   ]
  },
  {
   "cell_type": "code",
   "execution_count": 22,
   "id": "d3958b46",
   "metadata": {},
   "outputs": [
    {
     "name": "stdout",
     "output_type": "stream",
     "text": [
      "His name is  Walid . He is 23 years old. His height is 5.11 feet.\n",
      "His name is  walid . He is 23 years old. His height is 5.11 feet.\n",
      "Model accuracy is 99%\n"
     ]
    }
   ],
   "source": [
    "name = \" Walid \"\n",
    "Age = 23\n",
    "height = 5.11\n",
    "\n",
    "print(f\"His name is {name}. He is {Age} years old. His height is {height} feet.\")\n",
    "print(f\"His name is {name.capitalize()}. He is {Age} years old. His height is {height} feet.\")\n",
    "\n",
    "model_accuracy = 0.98765\n",
    "print(f\"Model accuracy is {model_accuracy:.0%}\")"
   ]
  }
 ],
 "metadata": {
  "kernelspec": {
   "display_name": "base",
   "language": "python",
   "name": "python3"
  },
  "language_info": {
   "codemirror_mode": {
    "name": "ipython",
    "version": 3
   },
   "file_extension": ".py",
   "mimetype": "text/x-python",
   "name": "python",
   "nbconvert_exporter": "python",
   "pygments_lexer": "ipython3",
   "version": "3.13.5"
  }
 },
 "nbformat": 4,
 "nbformat_minor": 5
}
