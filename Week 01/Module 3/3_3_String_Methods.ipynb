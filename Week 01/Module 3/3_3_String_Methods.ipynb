{
 "cells": [
  {
   "cell_type": "markdown",
   "id": "353b7003",
   "metadata": {},
   "source": [
    "### String Methods"
   ]
  },
  {
   "cell_type": "code",
   "execution_count": 24,
   "id": "4843e246",
   "metadata": {},
   "outputs": [
    {
     "name": "stdout",
     "output_type": "stream",
     "text": [
      "welcome to phitron ml course , phitron , ml\n",
      "43\n",
      "True\n",
      "11\n",
      "31\n",
      "2\n",
      "Welcome to Phitron Ai/ML Course , Phitron , Ai/ML\n",
      "Welcome to Phitron Ai/ML Course , Phitron , Ai/ML\n"
     ]
    }
   ],
   "source": [
    "string = \"Welcome to Phitron ML Course , Phitron , ML\"\n",
    "\n",
    "#processed_string = string.capitalize()\n",
    "processed_string = string.lower()\n",
    "print(processed_string)  # Output: welcome to phitron ai/ml course\n",
    "\n",
    "#length of string\n",
    "print(len(string))  # Output: phitron\n",
    "\n",
    "#check if substring exists\n",
    "print(\"phitron\" in processed_string)\n",
    "\n",
    "#check type of the result\n",
    "#print(type(\"phitron\" in processed_string))\n",
    "\n",
    "#find index of substring\n",
    "first_index = processed_string.find(\"phitron\")\n",
    "print(first_index) \n",
    "\n",
    "#find last index of substring\n",
    "last_index = processed_string.rfind(\"phitron\")\n",
    "print(last_index) \n",
    "\n",
    "#count occurrences of substring\n",
    "count = processed_string.count(\"phitron\")\n",
    "print(count)\n",
    "\n",
    "#replace substring\n",
    "new_string = string.replace(\"ML\", \"Ai/ML\")\n",
    "print(new_string) # Original string remains unchanged\n",
    "\n",
    "processed_string = string.replace(\"ML\", \"Ai/ML\")\n",
    "print(processed_string)"
   ]
  }
 ],
 "metadata": {
  "kernelspec": {
   "display_name": "base",
   "language": "python",
   "name": "python3"
  },
  "language_info": {
   "codemirror_mode": {
    "name": "ipython",
    "version": 3
   },
   "file_extension": ".py",
   "mimetype": "text/x-python",
   "name": "python",
   "nbconvert_exporter": "python",
   "pygments_lexer": "ipython3",
   "version": "3.13.5"
  }
 },
 "nbformat": 4,
 "nbformat_minor": 5
}
