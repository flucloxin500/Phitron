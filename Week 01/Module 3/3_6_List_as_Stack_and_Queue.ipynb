{
 "cells": [
  {
   "cell_type": "code",
   "execution_count": 4,
   "id": "87385296",
   "metadata": {},
   "outputs": [
    {
     "name": "stdout",
     "output_type": "stream",
     "text": [
      "[100, 200, 300, 400, 500]\n",
      "[500, 400, 300, 200, 100]\n"
     ]
    }
   ],
   "source": [
    "numbers = [100, 200, 300, 400, 500]\n",
    "\n",
    "numbers.sort()\n",
    "print(numbers)\n",
    "\n",
    "numbers.reverse()\n",
    "print(numbers)"
   ]
  },
  {
   "cell_type": "code",
   "execution_count": 5,
   "id": "a4d37b55",
   "metadata": {},
   "outputs": [
    {
     "name": "stdout",
     "output_type": "stream",
     "text": [
      "[500, 400, 300, 200, 100]\n"
     ]
    }
   ],
   "source": [
    "numbers.sort(reverse=True)\n",
    "print(numbers)"
   ]
  },
  {
   "cell_type": "markdown",
   "id": "790e4183",
   "metadata": {},
   "source": [
    "### Stack as list"
   ]
  },
  {
   "cell_type": "code",
   "execution_count": 19,
   "id": "76a505d2",
   "metadata": {},
   "outputs": [
    {
     "name": "stdout",
     "output_type": "stream",
     "text": [
      "5\n",
      "4\n"
     ]
    }
   ],
   "source": [
    "stack = []\n",
    "\n",
    "stack.append(1)\n",
    "stack.append(2)\n",
    "stack.append(3)\n",
    "stack.append(4)\n",
    "stack.append(5)\n",
    "\n",
    "#print(stack.pop())\n",
    "#print(stack.pop())\n",
    "#print(stack.pop())\n",
    "#print(stack.pop())\n",
    "#print(stack.pop())\n",
    "\n",
    "print(stack[-1])\n",
    "\n",
    "stack.pop()\n",
    "\n",
    "print(stack[-1])"
   ]
  },
  {
   "cell_type": "markdown",
   "id": "88d34d19",
   "metadata": {},
   "source": [
    "### Queue as list"
   ]
  },
  {
   "cell_type": "code",
   "execution_count": 20,
   "id": "fb41002d",
   "metadata": {},
   "outputs": [],
   "source": [
    "queue =[]\n",
    "\n",
    "#insertion\n",
    "queue.append(1)\n",
    "queue.append(2)\n",
    "queue.append(3)\n",
    "queue.append(4)\n",
    "queue.append(5)\n",
    "\n",
    "#removal\n",
    "#print(queue.pop(0))\n",
    "\n",
    "#access the front element\n",
    "#print(queue[0])\n",
    "\n",
    "#removal\n",
    "#print(queue.pop(0))\n",
    "\n",
    "#access the front element\n",
    "#print(queue[0])\n",
    "\n",
    "#top element\n"
   ]
  }
 ],
 "metadata": {
  "kernelspec": {
   "display_name": "base",
   "language": "python",
   "name": "python3"
  },
  "language_info": {
   "codemirror_mode": {
    "name": "ipython",
    "version": 3
   },
   "file_extension": ".py",
   "mimetype": "text/x-python",
   "name": "python",
   "nbconvert_exporter": "python",
   "pygments_lexer": "ipython3",
   "version": "3.13.5"
  }
 },
 "nbformat": 4,
 "nbformat_minor": 5
}
