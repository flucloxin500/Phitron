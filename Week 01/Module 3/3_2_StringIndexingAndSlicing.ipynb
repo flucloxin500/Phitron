{
 "cells": [
  {
   "cell_type": "code",
   "execution_count": 2,
   "id": "4cca39fe",
   "metadata": {},
   "outputs": [
    {
     "name": "stdout",
     "output_type": "stream",
     "text": [
      "Hello W!\n"
     ]
    }
   ],
   "source": [
    "print(\"Hello W!\")"
   ]
  },
  {
   "cell_type": "code",
   "execution_count": 2,
   "id": "8f9f951f",
   "metadata": {},
   "outputs": [
    {
     "name": "stdout",
     "output_type": "stream",
     "text": [
      "So , this is my last code \n",
      "in this course.\n"
     ]
    }
   ],
   "source": [
    "message = \"\"\"So , this is my last code \n",
    "in this course.\"\"\"\n",
    "print(message)"
   ]
  },
  {
   "cell_type": "markdown",
   "id": "47761e20",
   "metadata": {},
   "source": [
    "### Indexing and Slicing"
   ]
  },
  {
   "cell_type": "code",
   "execution_count": 7,
   "id": "a79f4c92",
   "metadata": {},
   "outputs": [
    {
     "name": "stdout",
     "output_type": "stream",
     "text": [
      "o\n"
     ]
    }
   ],
   "source": [
    "string = \"Hello World\"\n",
    "\n",
    "print(string[7])  # H   "
   ]
  },
  {
   "cell_type": "code",
   "execution_count": 11,
   "id": "2ec5eb72",
   "metadata": {},
   "outputs": [
    {
     "name": "stdout",
     "output_type": "stream",
     "text": [
      "So , this is my last\n",
      "t\n"
     ]
    }
   ],
   "source": [
    "first_message = message[0:20]\n",
    "print(first_message)\n",
    "print(first_message[-1])"
   ]
  }
 ],
 "metadata": {
  "kernelspec": {
   "display_name": "base",
   "language": "python",
   "name": "python3"
  },
  "language_info": {
   "codemirror_mode": {
    "name": "ipython",
    "version": 3
   },
   "file_extension": ".py",
   "mimetype": "text/x-python",
   "name": "python",
   "nbconvert_exporter": "python",
   "pygments_lexer": "ipython3",
   "version": "3.13.5"
  }
 },
 "nbformat": 4,
 "nbformat_minor": 5
}
