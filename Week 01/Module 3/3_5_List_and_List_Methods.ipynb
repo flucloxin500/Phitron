{
 "cells": [
  {
   "cell_type": "code",
   "execution_count": 39,
   "id": "db96433d",
   "metadata": {},
   "outputs": [
    {
     "name": "stdout",
     "output_type": "stream",
     "text": [
      "[1.5, 2.5, 3.5, 4.5, 5.5]\n",
      "['Mango', 'Banana', 'Orange', 'Pineapple']\n",
      "[100, 2.5, 'Hello', True]\n",
      "<class 'bool'>\n",
      "[[100, 200], [10, 20], [300, 400]]\n",
      "[300, 400]\n",
      "300\n"
     ]
    }
   ],
   "source": [
    "numbers = [100, 200, 300, 400, 500]\n",
    "floats = [1.5, 2.5, 3.5, 4.5, 5.5]\n",
    "print(floats)\n",
    "\n",
    "fruits = [\"Mango\", \"Banana\", \"Orange\", \"Pineapple\"]\n",
    "print(fruits)\n",
    "\n",
    "mixed = [100, 2.5, \"Hello\", True]\n",
    "print(mixed)\n",
    "print(type(mixed[3]))  # list\n",
    "\n",
    "#\n",
    "list_list = [[100, 200],[10, 20], [300, 400]]\n",
    "print(list_list)\n",
    "print(list_list[2])\n",
    "print(list_list[2][0])\n"
   ]
  },
  {
   "cell_type": "code",
   "execution_count": 40,
   "id": "2a9f3a5c",
   "metadata": {},
   "outputs": [
    {
     "name": "stdout",
     "output_type": "stream",
     "text": [
      "300\n",
      "2000\n",
      "[100, 200, 2000]\n"
     ]
    }
   ],
   "source": [
    "## Access\n",
    "print(numbers[2])  # First element\n",
    "\n",
    "## Modification\n",
    "numbers[2] = 2000\n",
    "print(numbers[2])\n",
    "\n",
    "## Slicing\n",
    "new_list = numbers[0:3]\n",
    "print(new_list)"
   ]
  },
  {
   "cell_type": "code",
   "execution_count": 41,
   "id": "73cdec3b",
   "metadata": {},
   "outputs": [
    {
     "name": "stdout",
     "output_type": "stream",
     "text": [
      "[100, 200, 2000, 400, 500, 600]\n",
      "[100, 200, 2500, 2000, 400, 500, 600]\n",
      "[100, 200, 2500, 2000, 400, 500]\n",
      "[100, 200, 2000, 400, 500]\n"
     ]
    }
   ],
   "source": [
    "## Modification\n",
    "\n",
    "numbers.append(600)\n",
    "print(numbers) \n",
    "\n",
    "## Insertion\n",
    "numbers.insert(2, 2500)\n",
    "print(numbers)\n",
    "\n",
    "## Deletion\n",
    "numbers.pop()  # removes last element\n",
    "print(numbers)\n",
    "\n",
    "#deleting specific value\n",
    "numbers.remove(2500)  # removes first occurrence of value 2500\n",
    "print(numbers)"
   ]
  }
 ],
 "metadata": {
  "kernelspec": {
   "display_name": "base",
   "language": "python",
   "name": "python3"
  },
  "language_info": {
   "codemirror_mode": {
    "name": "ipython",
    "version": 3
   },
   "file_extension": ".py",
   "mimetype": "text/x-python",
   "name": "python",
   "nbconvert_exporter": "python",
   "pygments_lexer": "ipython3",
   "version": "3.13.5"
  }
 },
 "nbformat": 4,
 "nbformat_minor": 5
}
