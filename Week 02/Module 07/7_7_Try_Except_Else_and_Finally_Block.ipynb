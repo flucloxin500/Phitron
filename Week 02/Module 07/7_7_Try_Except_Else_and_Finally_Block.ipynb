{
 "cells": [
  {
   "cell_type": "markdown",
   "id": "5b65540d",
   "metadata": {},
   "source": [
    "#### Exception Handling"
   ]
  },
  {
   "cell_type": "code",
   "execution_count": 3,
   "id": "fc9f250b",
   "metadata": {},
   "outputs": [
    {
     "name": "stdout",
     "output_type": "stream",
     "text": [
      "Hello Duniya\n"
     ]
    }
   ],
   "source": [
    "#a = 10/0\n",
    "n = int(input())\n",
    "\n",
    "try:\n",
    "    a = 10/n\n",
    "except ZeroDivisionError:\n",
    "    print(\"You can't divide a number by Zero\")\n",
    "\n",
    "print(\"Hello Duniya\")"
   ]
  },
  {
   "cell_type": "code",
   "execution_count": 7,
   "id": "dfbb707a",
   "metadata": {},
   "outputs": [
    {
     "name": "stdout",
     "output_type": "stream",
     "text": [
      "name 'y' is not defined\n",
      "Hello Duniya\n"
     ]
    }
   ],
   "source": [
    "try:\n",
    "    x = y\n",
    "    a = 10/n\n",
    "except Exception as ne:\n",
    "    print(ne)\n",
    "    \n",
    "print(\"Hello Duniya\")\n"
   ]
  },
  {
   "cell_type": "code",
   "execution_count": 17,
   "id": "67b61afe",
   "metadata": {},
   "outputs": [
    {
     "name": "stdout",
     "output_type": "stream",
     "text": [
      "Hello World\n",
      "Execution Completed\n"
     ]
    }
   ],
   "source": [
    "## Model Train\n",
    "\n",
    "try:\n",
    "    file = open(\"./Files/text2.txt\",\"r\")\n",
    "except Exception as e:\n",
    "    print(e)\n",
    "else:\n",
    "    print(file.read())\n",
    "    \n",
    "finally:\n",
    "    print(\"Execution Completed\")"
   ]
  }
 ],
 "metadata": {
  "kernelspec": {
   "display_name": "base",
   "language": "python",
   "name": "python3"
  },
  "language_info": {
   "codemirror_mode": {
    "name": "ipython",
    "version": 3
   },
   "file_extension": ".py",
   "mimetype": "text/x-python",
   "name": "python",
   "nbconvert_exporter": "python",
   "pygments_lexer": "ipython3",
   "version": "3.13.5"
  }
 },
 "nbformat": 4,
 "nbformat_minor": 5
}
