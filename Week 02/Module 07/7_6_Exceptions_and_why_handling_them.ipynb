{
 "cells": [
  {
   "cell_type": "code",
   "execution_count": null,
   "id": "272451cb",
   "metadata": {},
   "outputs": [],
   "source": [
    "## File Load\n",
    "## Memory Overload\n",
    "## \"Key,Value\" ; If key missing.\n",
    "## Import error"
   ]
  }
 ],
 "metadata": {
  "language_info": {
   "name": "python"
  }
 },
 "nbformat": 4,
 "nbformat_minor": 5
}
