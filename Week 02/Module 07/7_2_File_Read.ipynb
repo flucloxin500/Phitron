{
 "cells": [
  {
   "cell_type": "markdown",
   "id": "c6d9ef45",
   "metadata": {},
   "source": [
    "#### File"
   ]
  },
  {
   "cell_type": "code",
   "execution_count": 8,
   "id": "73cf6bdc",
   "metadata": {},
   "outputs": [
    {
     "name": "stdout",
     "output_type": "stream",
     "text": [
      "['This is Me for anyday \\n', '25\\n', '53.25\\n', 'True\\n', 'False\\n', 'Hello World']\n",
      "False\n",
      "True\n"
     ]
    }
   ],
   "source": [
    "file = open (\"./Files/example.txt\", \"r\")\n",
    "\n",
    "content = file.readlines()\n",
    "\n",
    "print (content)\n",
    "\n",
    "print(file.closed)\n",
    "\n",
    "file.close()\n",
    "print(file.closed)"
   ]
  },
  {
   "cell_type": "code",
   "execution_count": 9,
   "id": "f97b6281",
   "metadata": {},
   "outputs": [
    {
     "name": "stdout",
     "output_type": "stream",
     "text": [
      "True\n"
     ]
    }
   ],
   "source": [
    "with open (\"./Files/example.txt\", \"r\") as file: \n",
    "    content = file.readlines()\n",
    "\n",
    "print (file.closed)"
   ]
  },
  {
   "cell_type": "code",
   "execution_count": 15,
   "id": "e20f17e8",
   "metadata": {},
   "outputs": [
    {
     "name": "stdout",
     "output_type": "stream",
     "text": [
      "<_io.TextIOWrapper name='./Files/example.txt' mode='r' encoding='utf-8'>\n"
     ]
    }
   ],
   "source": [
    "with open (\"./Files/example.txt\", \"r\") as file: \n",
    "    for line in file:\n",
    "        l = line.strip()\n",
    "        \n",
    "print(file)"
   ]
  }
 ],
 "metadata": {
  "kernelspec": {
   "display_name": "base",
   "language": "python",
   "name": "python3"
  },
  "language_info": {
   "codemirror_mode": {
    "name": "ipython",
    "version": 3
   },
   "file_extension": ".py",
   "mimetype": "text/x-python",
   "name": "python",
   "nbconvert_exporter": "python",
   "pygments_lexer": "ipython3",
   "version": "3.13.5"
  }
 },
 "nbformat": 4,
 "nbformat_minor": 5
}
