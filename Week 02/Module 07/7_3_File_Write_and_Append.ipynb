{
 "cells": [
  {
   "cell_type": "markdown",
   "id": "4f4daa89",
   "metadata": {},
   "source": [
    "### File Write"
   ]
  },
  {
   "cell_type": "code",
   "execution_count": null,
   "id": "3ec287cc",
   "metadata": {},
   "outputs": [],
   "source": [
    "#Creating and writing to a file\n",
    "\n",
    "with open(\"./Files/text.txt\",\"w\") as file :\n",
    "    file.write(\"Hello World\")\n",
    "    file.write(\"\\nWelcome to Python programming\")"
   ]
  },
  {
   "cell_type": "code",
   "execution_count": null,
   "id": "a9f5c8ba",
   "metadata": {},
   "outputs": [],
   "source": [
    "#Writting on a existing file\n",
    "#This will overwrite the existing content\n",
    "\n",
    "with open(\"./Files/text.txt\",\"w\") as file :\n",
    "    file.write(\"Second Attempt\")\n",
    "    file.write(\"\\nWelcome to Python programming\\n\")"
   ]
  },
  {
   "cell_type": "code",
   "execution_count": null,
   "id": "e0cb0cfb",
   "metadata": {},
   "outputs": [],
   "source": [
    "#No Overwrite - Appending to a file\n",
    "#append mode is used by using \"a\" instead of \"w\"\n",
    "\n",
    "with open(\"./Files/text.txt\",\"a\") as file :\n",
    "    file.write(\"Third Attempt\")\n",
    "    file.write(\"\\nI'm not enjoying this\")"
   ]
  },
  {
   "cell_type": "code",
   "execution_count": 2,
   "id": "aeb213ec",
   "metadata": {},
   "outputs": [],
   "source": [
    "strings = [\"Hello\",\"Hi\",\"Hey\",\"Hola\",\"Bonjour\"]\n",
    "\n",
    "with open(\"./Files/text2.txt\",\"a\") as file :\n",
    "    file.writelines(strings)"
   ]
  }
 ],
 "metadata": {
  "kernelspec": {
   "display_name": "base",
   "language": "python",
   "name": "python3"
  },
  "language_info": {
   "codemirror_mode": {
    "name": "ipython",
    "version": 3
   },
   "file_extension": ".py",
   "mimetype": "text/x-python",
   "name": "python",
   "nbconvert_exporter": "python",
   "pygments_lexer": "ipython3",
   "version": "3.13.5"
  }
 },
 "nbformat": 4,
 "nbformat_minor": 5
}
