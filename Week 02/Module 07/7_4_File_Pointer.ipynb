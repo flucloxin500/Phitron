{
 "cells": [
  {
   "cell_type": "markdown",
   "id": "9a249ce2",
   "metadata": {},
   "source": [
    "### File Pointer"
   ]
  },
  {
   "cell_type": "code",
   "execution_count": 8,
   "id": "0a10f145",
   "metadata": {},
   "outputs": [
    {
     "name": "stdout",
     "output_type": "stream",
     "text": [
      "0\n",
      "Hello\n",
      "5\n",
      " World\n",
      "11\n"
     ]
    }
   ],
   "source": [
    "with open(\"./Files/text2.txt\",\"r\") as file :\n",
    "    print(file.tell())\n",
    "    print(file.read(5))\n",
    "    print(file.tell())\n",
    "    \n",
    "    print(file.read())\n",
    "    print(file.tell())"
   ]
  },
  {
   "cell_type": "markdown",
   "id": "aec614d3",
   "metadata": {},
   "source": [
    "#### SEEK\n"
   ]
  },
  {
   "cell_type": "code",
   "execution_count": 12,
   "id": "a3d781a2",
   "metadata": {},
   "outputs": [
    {
     "name": "stdout",
     "output_type": "stream",
     "text": [
      "0\n",
      "5\n",
      "0\n",
      "Hello\n"
     ]
    }
   ],
   "source": [
    "with open(\"./Files/text2.txt\",\"r\") as file :\n",
    "    print(file.tell())\n",
    "    \n",
    "    file.seek(5)\n",
    "    \n",
    "    print(file.tell())\n",
    "    \n",
    "    file.seek(0)\n",
    "    \n",
    "    print(file.tell())\n",
    "    print(file.read(5))"
   ]
  }
 ],
 "metadata": {
  "kernelspec": {
   "display_name": "base",
   "language": "python",
   "name": "python3"
  },
  "language_info": {
   "codemirror_mode": {
    "name": "ipython",
    "version": 3
   },
   "file_extension": ".py",
   "mimetype": "text/x-python",
   "name": "python",
   "nbconvert_exporter": "python",
   "pygments_lexer": "ipython3",
   "version": "3.13.5"
  }
 },
 "nbformat": 4,
 "nbformat_minor": 5
}
