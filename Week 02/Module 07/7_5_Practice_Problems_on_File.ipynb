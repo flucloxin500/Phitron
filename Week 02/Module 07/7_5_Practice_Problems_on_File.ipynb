{
 "cells": [
  {
   "cell_type": "markdown",
   "id": "f2c58b20",
   "metadata": {},
   "source": [
    "#### Practice 1\n"
   ]
  },
  {
   "cell_type": "code",
   "execution_count": 5,
   "id": "e9ec75f9",
   "metadata": {},
   "outputs": [
    {
     "name": "stdout",
     "output_type": "stream",
     "text": [
      "[2, 4, 2, 4, 2, 4, 1, 1]\n",
      "20\n",
      "20\n",
      "[13, 26, 12, 18, 12, 18, 21, 5]\n",
      "125\n"
     ]
    }
   ],
   "source": [
    "from functools import reduce\n",
    "\n",
    "with open(\"./Files/text.txt\", \"r\") as file:\n",
    "    strings_list = file.readlines()\n",
    "    \n",
    "    number_of_lines = len(strings_list)\n",
    "    \n",
    "    number_of_words = list(map(lambda x : len(x.split()), strings_list))\n",
    "    print(number_of_words)\n",
    "    \n",
    "    total_num_of_words = reduce(lambda a, b: a + b, number_of_words)\n",
    "    print(total_num_of_words)\n",
    "    \n",
    "    total_words = sum(number_of_words)\n",
    "    print(total_words)\n",
    "    \n",
    "    # Remove leading and trailing spaces\n",
    "    strings_list = list(map(str.strip,strings_list))\n",
    "    \n",
    "    # Remove all spaces\n",
    "    strings_list = list(map(lambda x : x.replace(\" \",\"\"), strings_list))\n",
    "    \n",
    "    #\n",
    "    number_of_character = list(map(lambda x : len(x), strings_list))\n",
    "    total_number_of_character = reduce(lambda a,b : a+b , number_of_character)\n",
    "    \n",
    "    print(number_of_character)\n",
    "    \n",
    "    print(total_number_of_character)\n",
    "    \n",
    "    with open (\"./Files/counter_of_string.txt\",\"w\") as file:\n",
    "        file.write(f\"Number of lines: {number_of_lines}\\n\")\n",
    "        file.write(f\"Total number of words: {total_num_of_words}\\n\")\n",
    "        file.write(f\"Total number of characters (without spaces): {total_number_of_character}\\n\")"
   ]
  },
  {
   "cell_type": "markdown",
   "id": "5cec02af",
   "metadata": {},
   "source": [
    "#### Practice 2"
   ]
  },
  {
   "cell_type": "code",
   "execution_count": 11,
   "id": "bb811df0",
   "metadata": {},
   "outputs": [
    {
     "name": "stdout",
     "output_type": "stream",
     "text": [
      "11\n",
      "0\n",
      "Hello World\n",
      "Hello\n"
     ]
    }
   ],
   "source": [
    "# W+ mode: read and write\n",
    "\n",
    "with open (\"./Files/write_read.txt\",\"w+\") as file:\n",
    "    file.write(\"Hello World\")\n",
    "    print(file.tell())  # get the current position of the cursor\n",
    "    \n",
    "    file.seek(0)\n",
    "    print(file.tell()) \n",
    "    \n",
    "    print(file.read())\n",
    "    \n",
    "    file.truncate(5)  # truncate the file to 5 characters\n",
    "    file.seek(0)\n",
    "    \n",
    "    print(file.read())"
   ]
  }
 ],
 "metadata": {
  "kernelspec": {
   "display_name": "base",
   "language": "python",
   "name": "python3"
  },
  "language_info": {
   "codemirror_mode": {
    "name": "ipython",
    "version": 3
   },
   "file_extension": ".py",
   "mimetype": "text/x-python",
   "name": "python",
   "nbconvert_exporter": "python",
   "pygments_lexer": "ipython3",
   "version": "3.13.5"
  }
 },
 "nbformat": 4,
 "nbformat_minor": 5
}
