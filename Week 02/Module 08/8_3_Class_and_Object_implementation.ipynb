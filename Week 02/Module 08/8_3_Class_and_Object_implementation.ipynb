{
 "cells": [
  {
   "cell_type": "markdown",
   "id": "ef492059",
   "metadata": {},
   "source": [
    "### Class and Objects\n"
   ]
  },
  {
   "cell_type": "code",
   "execution_count": 2,
   "id": "8059a678",
   "metadata": {},
   "outputs": [],
   "source": [
    "class Phone:\n",
    "    category = \"Electronics\"\n",
    "    \n",
    "    #Constructor Example\n",
    "    def __init__(self, model, battery , camera , battery_level = 100):\n",
    "        self.model = model\n",
    "        self.battery = battery\n",
    "        self.camera = camera\n",
    "        self.battery_level = battery_level\n",
    "    #Method Example  \n",
    "    def charge(self,hours):\n",
    "        self.hours += hours\n",
    "        \n",
    "    def capture(self,photos):\n",
    "        if (self.battery_level) <= 0:\n",
    "            print(\"No Charge in device\")\n",
    "        else:\n",
    "            self.battery_level -= photos\n",
    "            print(f\"Captured in {self.model}\")"
   ]
  },
  {
   "cell_type": "code",
   "execution_count": 5,
   "id": "262d86c3",
   "metadata": {},
   "outputs": [
    {
     "name": "stdout",
     "output_type": "stream",
     "text": [
      "Captured in iPhone 17\n",
      "Captured in G630\n",
      "50\n",
      "70\n"
     ]
    }
   ],
   "source": [
    "apple = Phone(\"iPhone 17\", 5000, \"108MP\")\n",
    "#apple.category = \"Smartphones\"\n",
    "blueberry = Phone(\"XYZ Pro\", 6000, \"64MP\")\n",
    "motorola = Phone(\"G630\", 7000, \"50MP\")\n",
    "\n",
    "apple.capture(50)\n",
    "motorola.capture(30)\n",
    "print(apple.battery_level)\n",
    "print(motorola.battery_level)\n",
    "\n",
    "\n"
   ]
  }
 ],
 "metadata": {
  "kernelspec": {
   "display_name": "base",
   "language": "python",
   "name": "python3"
  },
  "language_info": {
   "codemirror_mode": {
    "name": "ipython",
    "version": 3
   },
   "file_extension": ".py",
   "mimetype": "text/x-python",
   "name": "python",
   "nbconvert_exporter": "python",
   "pygments_lexer": "ipython3",
   "version": "3.13.5"
  }
 },
 "nbformat": 4,
 "nbformat_minor": 5
}
