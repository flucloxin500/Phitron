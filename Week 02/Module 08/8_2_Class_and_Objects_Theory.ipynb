{
 "cells": [
  {
   "cell_type": "code",
   "execution_count": null,
   "id": "c092e57c",
   "metadata": {
    "vscode": {
     "languageId": "plaintext"
    }
   },
   "outputs": [],
   "source": [
    "# Phone\n",
    "# Battery Level\n",
    "# Camera\n",
    "# Touch"
   ]
  },
  {
   "cell_type": "code",
   "execution_count": null,
   "id": "a14b1d77",
   "metadata": {
    "vscode": {
     "languageId": "plaintext"
    }
   },
   "outputs": [],
   "source": []
  }
 ],
 "metadata": {
  "language_info": {
   "name": "python"
  }
 },
 "nbformat": 4,
 "nbformat_minor": 5
}
