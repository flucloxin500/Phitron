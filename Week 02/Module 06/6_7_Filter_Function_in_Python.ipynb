{
 "cells": [
  {
   "cell_type": "markdown",
   "id": "927c377e",
   "metadata": {},
   "source": [
    "#### Filter\n"
   ]
  },
  {
   "cell_type": "code",
   "execution_count": 3,
   "id": "9fbde13a",
   "metadata": {},
   "outputs": [
    {
     "name": "stdout",
     "output_type": "stream",
     "text": [
      "[0, 1, 2, 3, 4, 5, 6, 7, 8, 9, 10, 11, 12, 13, 14, 15, 16, 17, 18, 19, 20, 21, 22, 23, 24, 25, 26, 27, 28, 29, 30, 31, 32, 33, 34, 35, 36, 37, 38, 39, 40, 41, 42, 43, 44, 45, 46, 47, 48, 49, 50, 51, 52, 53, 54, 55, 56, 57, 58, 59, 60, 61, 62, 63, 64, 65, 66, 67, 68, 69, 70, 71, 72, 73, 74, 75, 76, 77, 78, 79, 80, 81, 82, 83, 84, 85, 86, 87, 88, 89, 90, 91, 92, 93, 94, 95, 96, 97, 98, 99]\n",
      "[0, 2, 4, 6, 8, 10, 12, 14, 16, 18, 20, 22, 24, 26, 28, 30, 32, 34, 36, 38, 40, 42, 44, 46, 48, 50, 52, 54, 56, 58, 60, 62, 64, 66, 68, 70, 72, 74, 76, 78, 80, 82, 84, 86, 88, 90, 92, 94, 96, 98]\n",
      "[50, 51, 52, 53, 54, 55, 56, 57, 58, 59, 60, 61, 62, 63, 64, 65, 66, 67, 68, 69, 70, 71, 72, 73, 74, 75, 76, 77, 78, 79, 80, 81, 82, 83, 84, 85, 86, 87, 88, 89, 90, 91, 92, 93, 94, 95, 96, 97, 98, 99]\n"
     ]
    }
   ],
   "source": [
    "numbers = [x for x in range(100)]\n",
    "print(numbers)\n",
    "\n",
    "even = list(filter(lambda x : x % 2 == 0, numbers))\n",
    "print(even)\n",
    "\n",
    "fifty_upper = list(filter(lambda x : x >= 50, numbers))\n",
    "print(fifty_upper)"
   ]
  },
  {
   "cell_type": "code",
   "execution_count": 4,
   "id": "4c09fb75",
   "metadata": {},
   "outputs": [
    {
     "name": "stdout",
     "output_type": "stream",
     "text": [
      "[1, 'Hello', [1, 2], True]\n"
     ]
    }
   ],
   "source": [
    "data = [0,1,'','Hello' ,[],[1,2],None,True]\n",
    "\n",
    "cleaned_data = list(filter(None, data))\n",
    "print(cleaned_data)"
   ]
  },
  {
   "cell_type": "code",
   "execution_count": 8,
   "id": "38db912f",
   "metadata": {},
   "outputs": [
    {
     "name": "stdout",
     "output_type": "stream",
     "text": [
      "H E L L O   W O R L D ,   W E L C O M E   T O   T H E   E R A   O F   A I\n",
      "['E', 'O', 'O', 'E', 'O', 'E', 'O', 'E', 'E', 'A', 'O', 'A', 'I']\n"
     ]
    }
   ],
   "source": [
    "# String\n",
    "string = \"Hello World, Welcome to the Era of Ai\"\n",
    "\n",
    "str1 = list( map(str.upper , string) )\n",
    "\n",
    "str1 = \" \".join(str1)\n",
    "print(str1)\n",
    "\n",
    "vower_ = list(filter(lambda x:x in \"AEIOUaeiou\", str1))\n",
    "print(vower_)"
   ]
  },
  {
   "cell_type": "code",
   "execution_count": 9,
   "id": "7bb02d48",
   "metadata": {},
   "outputs": [
    {
     "name": "stdout",
     "output_type": "stream",
     "text": [
      "['apple', 'banana', 'kiwi', 'grape', 'mango', 'orange', 'strawberry']\n"
     ]
    }
   ],
   "source": [
    "fruits = ['apple', 'banana', 'kiwi', 'grape', 'mango', 'orange', 'strawberry']\n",
    "\n",
    "filtering = list(filter(lambda x : len(x)>2 , fruits))\n",
    "\n",
    "print(filtering)\n"
   ]
  }
 ],
 "metadata": {
  "kernelspec": {
   "display_name": "base",
   "language": "python",
   "name": "python3"
  },
  "language_info": {
   "codemirror_mode": {
    "name": "ipython",
    "version": 3
   },
   "file_extension": ".py",
   "mimetype": "text/x-python",
   "name": "python",
   "nbconvert_exporter": "python",
   "pygments_lexer": "ipython3",
   "version": "3.13.5"
  }
 },
 "nbformat": 4,
 "nbformat_minor": 5
}
