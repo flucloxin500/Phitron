{
 "cells": [
  {
   "cell_type": "markdown",
   "id": "af7e4090",
   "metadata": {},
   "source": [
    "### Function Parameters (Input)\n"
   ]
  },
  {
   "cell_type": "code",
   "execution_count": 4,
   "id": "5c46f666",
   "metadata": {},
   "outputs": [
    {
     "name": "stdout",
     "output_type": "stream",
     "text": [
      "Hello, Guest!\n"
     ]
    }
   ],
   "source": [
    "def greet (user = \"Guest\"):\n",
    "    print(f\"Hello, {user}!\")\n",
    "# A simple greeting function\n",
    "\n",
    "greet()  # Should print \"Hello, Guest!\"\n",
    "\n"
   ]
  },
  {
   "cell_type": "code",
   "execution_count": 6,
   "id": "815d54d2",
   "metadata": {},
   "outputs": [
    {
     "name": "stdout",
     "output_type": "stream",
     "text": [
      "510\n"
     ]
    }
   ],
   "source": [
    "def square_addition(a,b):\n",
    "    a = a**2\n",
    "    b = b**2\n",
    "    return(a+b)\n",
    "\n",
    "ans = square_addition(10,20) + 10\n",
    "print(ans)"
   ]
  },
  {
   "cell_type": "code",
   "execution_count": 8,
   "id": "c6ea5124",
   "metadata": {},
   "outputs": [
    {
     "name": "stdout",
     "output_type": "stream",
     "text": [
      "5500\n"
     ]
    }
   ],
   "source": [
    "def square_addition (*args):\n",
    "    sum  = 0\n",
    "    for i in args:\n",
    "        sum += i**2\n",
    "    return sum\n",
    "\n",
    "ans = square_addition(10,20,30,40,50) \n",
    "print(ans)"
   ]
  },
  {
   "cell_type": "code",
   "execution_count": 11,
   "id": "4c39a186",
   "metadata": {},
   "outputs": [
    {
     "name": "stdout",
     "output_type": "stream",
     "text": [
      "name: John\n",
      "age: 22\n",
      "id: 101\n"
     ]
    }
   ],
   "source": [
    "def student(**kwargs):\n",
    "    for key, value in kwargs.items():\n",
    "        print(f\"{key}: {value}\")\n",
    "        \n",
    "student(name=\"John\", age=22, id=101)"
   ]
  }
 ],
 "metadata": {
  "kernelspec": {
   "display_name": "base",
   "language": "python",
   "name": "python3"
  },
  "language_info": {
   "codemirror_mode": {
    "name": "ipython",
    "version": 3
   },
   "file_extension": ".py",
   "mimetype": "text/x-python",
   "name": "python",
   "nbconvert_exporter": "python",
   "pygments_lexer": "ipython3",
   "version": "3.13.5"
  }
 },
 "nbformat": 4,
 "nbformat_minor": 5
}
