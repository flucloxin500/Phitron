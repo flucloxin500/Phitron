{
 "cells": [
  {
   "cell_type": "markdown",
   "id": "feb29882",
   "metadata": {},
   "source": [
    "### Reduce\n"
   ]
  },
  {
   "cell_type": "code",
   "execution_count": 2,
   "id": "618108ee",
   "metadata": {},
   "outputs": [
    {
     "name": "stdout",
     "output_type": "stream",
     "text": [
      "21\n"
     ]
    }
   ],
   "source": [
    "from functools import reduce \n",
    "lst = [1,2,3,4,5,6]\n",
    "\n",
    "summ = reduce(lambda x, y: x + y, lst)\n",
    "print(summ)\n"
   ]
  },
  {
   "cell_type": "code",
   "execution_count": 4,
   "id": "d4f30228",
   "metadata": {},
   "outputs": [
    {
     "name": "stdout",
     "output_type": "stream",
     "text": [
      "35\n"
     ]
    }
   ],
   "source": [
    "lst = [1,2,35,14,5,6]\n",
    "max_value = reduce ( lambda x,y : x if x > y else y , lst )\n",
    "\n",
    "print(max_value)"
   ]
  }
 ],
 "metadata": {
  "kernelspec": {
   "display_name": "base",
   "language": "python",
   "name": "python3"
  },
  "language_info": {
   "codemirror_mode": {
    "name": "ipython",
    "version": 3
   },
   "file_extension": ".py",
   "mimetype": "text/x-python",
   "name": "python",
   "nbconvert_exporter": "python",
   "pygments_lexer": "ipython3",
   "version": "3.13.5"
  }
 },
 "nbformat": 4,
 "nbformat_minor": 5
}
