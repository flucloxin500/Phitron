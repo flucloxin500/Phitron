{
 "cells": [
  {
   "cell_type": "markdown",
   "id": "8292b35d",
   "metadata": {},
   "source": [
    "### Lambda Function"
   ]
  },
  {
   "cell_type": "code",
   "execution_count": 2,
   "id": "f77634d7",
   "metadata": {},
   "outputs": [
    {
     "name": "stdout",
     "output_type": "stream",
     "text": [
      "13\n"
     ]
    }
   ],
   "source": [
    "def square (x):\n",
    "    return x**2\n",
    "\n",
    "def square_addition (x,y):\n",
    "    return x**2 + y**2\n",
    "\n",
    "sq_add = lambda x , y : x**2 + y** 2\n",
    "\n",
    "print(sq_add(2,3))"
   ]
  },
  {
   "cell_type": "code",
   "execution_count": 4,
   "id": "48cd5473",
   "metadata": {},
   "outputs": [
    {
     "name": "stdout",
     "output_type": "stream",
     "text": [
      "False\n"
     ]
    }
   ],
   "source": [
    "if_even = lambda x : x%2 == 0\n",
    "print(if_even(9.4))"
   ]
  }
 ],
 "metadata": {
  "kernelspec": {
   "display_name": "base",
   "language": "python",
   "name": "python3"
  },
  "language_info": {
   "codemirror_mode": {
    "name": "ipython",
    "version": 3
   },
   "file_extension": ".py",
   "mimetype": "text/x-python",
   "name": "python",
   "nbconvert_exporter": "python",
   "pygments_lexer": "ipython3",
   "version": "3.13.5"
  }
 },
 "nbformat": 4,
 "nbformat_minor": 5
}
