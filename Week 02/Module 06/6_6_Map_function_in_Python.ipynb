{
 "cells": [
  {
   "cell_type": "markdown",
   "id": "391c4a0b",
   "metadata": {},
   "source": [
    "#### Map"
   ]
  },
  {
   "cell_type": "code",
   "execution_count": 2,
   "id": "f1570fc4",
   "metadata": {},
   "outputs": [
    {
     "name": "stdout",
     "output_type": "stream",
     "text": [
      "[1, 4, 9, 16]\n"
     ]
    }
   ],
   "source": [
    "lst = [1,2,3,4]\n",
    "\n",
    "def square(x):\n",
    "    return x**2\n",
    "\n",
    "lst = list(map(square, lst))\n",
    "\n",
    "print(lst)\n"
   ]
  },
  {
   "cell_type": "code",
   "execution_count": 5,
   "id": "a994f05b",
   "metadata": {},
   "outputs": [
    {
     "name": "stdout",
     "output_type": "stream",
     "text": [
      "['H', 'E', 'L', 'L', 'O', ' ', 'W', 'O', 'R', 'L', 'D', ',', ' ', 'W', 'E', 'L', 'C', 'O', 'M', 'E', ' ', 'T', 'O', ' ', 'T', 'H', 'E', ' ', 'E', 'R', 'A', ' ', 'O', 'F', ' ', 'A', 'I']\n",
      "H E L L O   W O R L D ,   W E L C O M E   T O   T H E   E R A   O F   A I\n"
     ]
    }
   ],
   "source": [
    "string = \"Hello World, Welcome to the Era of Ai\"\n",
    "\n",
    "str1 = list( map(str.upper , string) )\n",
    "\n",
    "print(str1)\n",
    "\n",
    "str1 = \" \".join(str1)\n",
    "print(str1)"
   ]
  },
  {
   "cell_type": "markdown",
   "id": "efcd452f",
   "metadata": {},
   "source": [
    "#### Map with Lambda\n"
   ]
  },
  {
   "cell_type": "code",
   "execution_count": 7,
   "id": "6ff5c24c",
   "metadata": {},
   "outputs": [
    {
     "name": "stdout",
     "output_type": "stream",
     "text": [
      "[1, 4, 3, 16]\n"
     ]
    }
   ],
   "source": [
    "lst = [1,2,3,4]\n",
    "\n",
    "lst = list(map(lambda x : x**2 if x%2 == 0 else x , lst))\n",
    "\n",
    "print(lst)"
   ]
  }
 ],
 "metadata": {
  "kernelspec": {
   "display_name": "base",
   "language": "python",
   "name": "python3"
  },
  "language_info": {
   "codemirror_mode": {
    "name": "ipython",
    "version": 3
   },
   "file_extension": ".py",
   "mimetype": "text/x-python",
   "name": "python",
   "nbconvert_exporter": "python",
   "pygments_lexer": "ipython3",
   "version": "3.13.5"
  }
 },
 "nbformat": 4,
 "nbformat_minor": 5
}
