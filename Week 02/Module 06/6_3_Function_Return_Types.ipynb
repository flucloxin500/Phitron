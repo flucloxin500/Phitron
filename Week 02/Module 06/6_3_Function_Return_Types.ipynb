{
 "cells": [
  {
   "cell_type": "markdown",
   "id": "1ad2f909",
   "metadata": {},
   "source": [
    "## return"
   ]
  },
  {
   "cell_type": "code",
   "execution_count": 1,
   "id": "72431dfc",
   "metadata": {},
   "outputs": [],
   "source": [
    "def give_prediction():\n",
    "    return \"Hello, World!\""
   ]
  },
  {
   "cell_type": "markdown",
   "id": "3581b1b6",
   "metadata": {},
   "source": [
    "## int"
   ]
  },
  {
   "cell_type": "code",
   "execution_count": 2,
   "id": "93bdfc69",
   "metadata": {},
   "outputs": [
    {
     "data": {
      "text/plain": [
       "int"
      ]
     },
     "execution_count": 2,
     "metadata": {},
     "output_type": "execute_result"
    }
   ],
   "source": [
    "def give_prediction():\n",
    "    return 10\n",
    "type(give_prediction())"
   ]
  },
  {
   "cell_type": "code",
   "execution_count": 6,
   "id": "2011eff5",
   "metadata": {},
   "outputs": [
    {
     "name": "stdout",
     "output_type": "stream",
     "text": [
      "(10, 20, 30)\n"
     ]
    }
   ],
   "source": [
    "def give_prediction():\n",
    "    return \"Walid\"\n",
    "type(give_prediction())\n",
    "\n",
    "def give_prediction():\n",
    "    return [10,20,30]\n",
    "type(give_prediction())\n",
    "\n",
    "def give_prediction():\n",
    "    return 10,20,30\n",
    "type(give_prediction())\n",
    "print(give_prediction())"
   ]
  },
  {
   "cell_type": "markdown",
   "id": "d4ada6eb",
   "metadata": {},
   "source": [
    "## Unpacking"
   ]
  },
  {
   "cell_type": "code",
   "execution_count": 14,
   "id": "4eb48df6",
   "metadata": {},
   "outputs": [
    {
     "name": "stdout",
     "output_type": "stream",
     "text": [
      "10 10\n"
     ]
    }
   ],
   "source": [
    "def give_prediction(a,b):\n",
    "    return a,b\n",
    "\n",
    "type(give_prediction(10,20))\n",
    "x , y = give_prediction(a = 10 ,b = 10)\n",
    "print(x,y)"
   ]
  },
  {
   "cell_type": "code",
   "execution_count": 17,
   "id": "0fbfd57c",
   "metadata": {},
   "outputs": [
    {
     "name": "stdout",
     "output_type": "stream",
     "text": [
      "[10, 20, 30]\n",
      "[20, 30, 40]\n"
     ]
    }
   ],
   "source": [
    "def give_prediction():\n",
    "    a = [10,20,30]\n",
    "    b = [20,30,40]\n",
    "    \n",
    "    return a,b\n",
    "\n",
    "type(give_prediction())\n",
    "\n",
    "x, y = give_prediction()\n",
    "print(x)\n",
    "print(y)\n"
   ]
  },
  {
   "cell_type": "code",
   "execution_count": 20,
   "id": "2beb239e",
   "metadata": {},
   "outputs": [
    {
     "name": "stdout",
     "output_type": "stream",
     "text": [
      "<class 'tuple'>\n",
      "{10, 20, 30}\n",
      "[100, 200, 300]\n"
     ]
    }
   ],
   "source": [
    "def give_prediction():\n",
    "    a = {10,20,30}\n",
    "    b = [100,200,300]\n",
    "    \n",
    "    return a,b\n",
    "\n",
    "x = give_prediction()\n",
    "print(type(x))\n",
    "\n",
    "for item in x:\n",
    "    print(item)"
   ]
  },
  {
   "cell_type": "code",
   "execution_count": 21,
   "id": "c6891939",
   "metadata": {},
   "outputs": [
    {
     "name": "stdout",
     "output_type": "stream",
     "text": [
      "<class 'dict'>\n"
     ]
    }
   ],
   "source": [
    "def give_prediction():\n",
    "    return {\"Name\" : \"Walid\", \"Age\": 24 , \"Address\": \"Dhaka\"}\n",
    "\n",
    "x = give_prediction()\n",
    "print(type(x))"
   ]
  }
 ],
 "metadata": {
  "kernelspec": {
   "display_name": "base",
   "language": "python",
   "name": "python3"
  },
  "language_info": {
   "codemirror_mode": {
    "name": "ipython",
    "version": 3
   },
   "file_extension": ".py",
   "mimetype": "text/x-python",
   "name": "python",
   "nbconvert_exporter": "python",
   "pygments_lexer": "ipython3",
   "version": "3.13.5"
  }
 },
 "nbformat": 4,
 "nbformat_minor": 5
}
